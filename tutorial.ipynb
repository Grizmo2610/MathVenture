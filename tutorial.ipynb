{
 "cells": [
  {
   "cell_type": "markdown",
   "metadata": {},
   "source": [
    "# Hướng dẫn trò chơi\n",
    "\n",
    "## Luật chơi:\n",
    "\n",
    "> - Điểm tại thời điểm hiện tại của bạn là **score** và điểm cần đạt được là **target**.\n",
    "> - Quy tắc tính điểm như sau với mỗi viên kim cương và màu ngọc khác nhau, **Đặc biệt các viên kim cương chỉ có thể được nhặt 1 lần** thì sẽ có quy tắc tính điểm khác nhau và quy tắc tính điểm bằng màu như sau:\n",
    "\n",
    "<img src=\"./assets/PNG/tutorial.png\">\n",
    "\n",
    "> - Bạn cần di chuyển qua thu thập các **viên ngọc** và **kim cương** để tăng điểm của bạn sao cho số điểm của bạn tại thời điểm đó **score** bằng với điểm đích là **target**.\n",
    "> - Để chơi lại rừ đầu nhất vào nưt level\n",
    "## Gợi ý cách giải quyết:\n",
    "> - Bạn cần tìm ra những con số chính xác để số điểm của bạn bằng mục tiêu target của màn chơi đó, rồi xác định chính xác đường đi mà bạn cần đi qua.\n",
    "\n",
    "# Sau khi chơi qua 4 màn thì sẽ nhận được phần thưởng "
   ]
  },
  {
   "cell_type": "markdown",
   "metadata": {},
   "source": [
    "# Game"
   ]
  },
  {
   "cell_type": "code",
   "execution_count": null,
   "metadata": {},
   "outputs": [
    {
     "name": "stdout",
     "output_type": "stream",
     "text": [
      "pygame 2.6.0 (SDL 2.28.4, Python 3.12.4)\n",
      "Hello from the pygame community. https://www.pygame.org/contribute.html\n"
     ]
    },
    {
     "ename": "ValueError",
     "evalue": "Exceeds the limit (4300 digits) for integer string conversion; use sys.set_int_max_str_digits() to increase the limit",
     "output_type": "error",
     "traceback": [
      "\u001b[1;31m---------------------------------------------------------------------------\u001b[0m",
      "\u001b[1;31mValueError\u001b[0m                                Traceback (most recent call last)",
      "Cell \u001b[1;32mIn[1], line 4\u001b[0m\n\u001b[0;32m      1\u001b[0m \u001b[38;5;28;01mfrom\u001b[39;00m \u001b[38;5;21;01mGame\u001b[39;00m \u001b[38;5;28;01mimport\u001b[39;00m main\n\u001b[0;32m      3\u001b[0m \u001b[38;5;28;01mif\u001b[39;00m \u001b[38;5;18m__name__\u001b[39m \u001b[38;5;241m==\u001b[39m \u001b[38;5;124m'\u001b[39m\u001b[38;5;124m__main__\u001b[39m\u001b[38;5;124m'\u001b[39m:\n\u001b[1;32m----> 4\u001b[0m     \u001b[43mmain\u001b[49m\u001b[43m(\u001b[49m\u001b[43m)\u001b[49m\n",
      "File \u001b[1;32mc:\\Users\\Dell\\Desktop\\MathVenture-main\\Game.py:268\u001b[0m, in \u001b[0;36mmain\u001b[1;34m()\u001b[0m\n\u001b[0;32m    265\u001b[0m \u001b[38;5;66;03m# if press Key\u001b[39;00m\n\u001b[0;32m    266\u001b[0m keys \u001b[38;5;241m=\u001b[39m pygame\u001b[38;5;241m.\u001b[39mkey\u001b[38;5;241m.\u001b[39mget_pressed()\n\u001b[1;32m--> 268\u001b[0m \u001b[43mplay_game\u001b[49m\u001b[43m(\u001b[49m\u001b[43mgame_maps\u001b[49m\u001b[43m[\u001b[49m\u001b[43mlevel\u001b[49m\u001b[43m]\u001b[49m\u001b[43m,\u001b[49m\u001b[43m \u001b[49m\u001b[43mkeys\u001b[49m\u001b[43m)\u001b[49m\n\u001b[0;32m    270\u001b[0m \u001b[38;5;66;03m# flip() the display to put your work on screen\u001b[39;00m\n\u001b[0;32m    271\u001b[0m pygame\u001b[38;5;241m.\u001b[39mdisplay\u001b[38;5;241m.\u001b[39mflip()\n",
      "File \u001b[1;32mc:\\Users\\Dell\\Desktop\\MathVenture-main\\Game.py:225\u001b[0m, in \u001b[0;36mplay_game\u001b[1;34m(mapGame, keys)\u001b[0m\n\u001b[0;32m    222\u001b[0m walls \u001b[38;5;241m=\u001b[39m mapGame\u001b[38;5;241m.\u001b[39mwalls\n\u001b[0;32m    224\u001b[0m \u001b[38;5;66;03m# Drawing backgroud\u001b[39;00m\n\u001b[1;32m--> 225\u001b[0m \u001b[43mdraw_background\u001b[49m\u001b[43m(\u001b[49m\u001b[43mmapGame\u001b[49m\u001b[43m)\u001b[49m\n\u001b[0;32m    227\u001b[0m \u001b[38;5;66;03m# Player start position\u001b[39;00m\n\u001b[0;32m    228\u001b[0m screen\u001b[38;5;241m.\u001b[39mblit(player_image, player\u001b[38;5;241m.\u001b[39mget_pos())\n",
      "File \u001b[1;32mc:\\Users\\Dell\\Desktop\\MathVenture-main\\Game.py:215\u001b[0m, in \u001b[0;36mdraw_background\u001b[1;34m(mapGame)\u001b[0m\n\u001b[0;32m    212\u001b[0m \u001b[38;5;28;01mif\u001b[39;00m target \u001b[38;5;241m==\u001b[39m pointer\u001b[38;5;241m.\u001b[39mpoint:\n\u001b[0;32m    213\u001b[0m     update_level()\n\u001b[1;32m--> 215\u001b[0m \u001b[43mdraw_target_score\u001b[49m\u001b[43m(\u001b[49m\u001b[43mtarget\u001b[49m\u001b[43m)\u001b[49m\n",
      "File \u001b[1;32mc:\\Users\\Dell\\Desktop\\MathVenture-main\\Game.py:185\u001b[0m, in \u001b[0;36mdraw_target_score\u001b[1;34m(target)\u001b[0m\n\u001b[0;32m    183\u001b[0m font \u001b[38;5;241m=\u001b[39m pygame\u001b[38;5;241m.\u001b[39mfont\u001b[38;5;241m.\u001b[39mSysFont(\u001b[38;5;124m'\u001b[39m\u001b[38;5;124mcomicsans\u001b[39m\u001b[38;5;124m'\u001b[39m, \u001b[38;5;241m40\u001b[39m)\n\u001b[0;32m    184\u001b[0m target_str \u001b[38;5;241m=\u001b[39m font\u001b[38;5;241m.\u001b[39mrender(\u001b[38;5;124m\"\u001b[39m\u001b[38;5;124mTarget: \u001b[39m\u001b[38;5;124m\"\u001b[39m \u001b[38;5;241m+\u001b[39m \u001b[38;5;28mstr\u001b[39m(target), (\u001b[38;5;28;01mTrue\u001b[39;00m), (\u001b[38;5;241m225\u001b[39m, \u001b[38;5;241m225\u001b[39m, \u001b[38;5;241m0\u001b[39m))\n\u001b[1;32m--> 185\u001b[0m text \u001b[38;5;241m=\u001b[39m font\u001b[38;5;241m.\u001b[39mrender(\u001b[38;5;124m\"\u001b[39m\u001b[38;5;124mScore: \u001b[39m\u001b[38;5;124m\"\u001b[39m \u001b[38;5;241m+\u001b[39m \u001b[38;5;28;43mstr\u001b[39;49m\u001b[43m(\u001b[49m\u001b[43mpointer\u001b[49m\u001b[38;5;241;43m.\u001b[39;49m\u001b[43mpoint\u001b[49m\u001b[43m)\u001b[49m, (\u001b[38;5;28;01mTrue\u001b[39;00m), (\u001b[38;5;241m225\u001b[39m, \u001b[38;5;241m0\u001b[39m, \u001b[38;5;241m0\u001b[39m))\n\u001b[0;32m    186\u001b[0m screen\u001b[38;5;241m.\u001b[39mblit(target_str, (x, y))\n\u001b[0;32m    187\u001b[0m screen\u001b[38;5;241m.\u001b[39mblit(text, (x, y \u001b[38;5;241m+\u001b[39m \u001b[38;5;241m45\u001b[39m))\n",
      "\u001b[1;31mValueError\u001b[0m: Exceeds the limit (4300 digits) for integer string conversion; use sys.set_int_max_str_digits() to increase the limit"
     ]
    },
    {
     "ename": "",
     "evalue": "",
     "output_type": "error",
     "traceback": [
      "\u001b[1;31mThe Kernel crashed while executing code in the current cell or a previous cell. \n",
      "\u001b[1;31mPlease review the code in the cell(s) to identify a possible cause of the failure. \n",
      "\u001b[1;31mClick <a href='https://aka.ms/vscodeJupyterKernelCrash'>here</a> for more info. \n",
      "\u001b[1;31mView Jupyter <a href='command:jupyter.viewOutput'>log</a> for further details."
     ]
    }
   ],
   "source": [
    "from Game import main\n",
    "\n",
    "if __name__ == '__main__':\n",
    "    main()"
   ]
  }
 ],
 "metadata": {
  "kernelspec": {
   "display_name": "Python 3",
   "language": "python",
   "name": "python3"
  },
  "language_info": {
   "codemirror_mode": {
    "name": "ipython",
    "version": 3
   },
   "file_extension": ".py",
   "mimetype": "text/x-python",
   "name": "python",
   "nbconvert_exporter": "python",
   "pygments_lexer": "ipython3",
   "version": "3.12.4"
  }
 },
 "nbformat": 4,
 "nbformat_minor": 2
}
