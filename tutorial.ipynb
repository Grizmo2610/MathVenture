{
 "cells": [
  {
   "cell_type": "markdown",
   "metadata": {},
   "source": [
    "# Hướng dẫn trò chơi\n",
    "\n",
    "## Luật chơi:\n",
    "\n",
    "> - Điểm tại thời điểm hiện tại của bạn là **source** và điểm cần đạt được là **target**.\n",
    "> - Quy tắc tính điểm như sau với mỗi viên kim cương và màu ngọc khác nhau, **Đặc biệt các viên kim cương chỉ có thể được nhặt 1 lần** thì sẽ có quy tắc tính điểm khác nhau và quy tắc tính điểm bằng màu như sau:\n",
    "\n",
    "<img src=\"./assets/PNG/tutorial.png\">\n",
    "\n",
    "> - Bạn cần di chuyển qua thu thập các **viên ngọc** và **kim cương** để tăng điểm của bạn sao cho số điểm của bạn tại thời điểm đó **source** bằng với điểm đích là **target**.\n",
    "> - Để chơi lại rừ đầu nhất vào nưt level\n",
    "## Gợi ý cách giải quyết:\n",
    "> - Bạn cần tìm ra những con số chính xác để số điểm của bạn bằng mục tiêu target của màn chơi đó, rồi xác định chính xác đường đi mà bạn cần đi qua.\n",
    "\n",
    "# Sau khi chơi qua 4 màn thì sẽ nhận được phần thưởng "
   ]
  },
  {
   "cell_type": "markdown",
   "metadata": {},
   "source": [
    "# Game"
   ]
  },
  {
   "cell_type": "code",
   "execution_count": null,
   "metadata": {},
   "outputs": [],
   "source": [
    "from Game import main\n",
    "\n",
    "if __name__ == '__main__':\n",
    "    main()"
   ]
  }
 ],
 "metadata": {
  "kernelspec": {
   "display_name": "Python 3",
   "language": "python",
   "name": "python3"
  },
  "language_info": {
   "name": "python",
   "version": "3.12.4"
  }
 },
 "nbformat": 4,
 "nbformat_minor": 2
}
